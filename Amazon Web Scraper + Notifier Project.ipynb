{
 "cells": [
  {
   "cell_type": "markdown",
   "id": "9fd0ce8b-35b0-468d-a6b5-e12871226523",
   "metadata": {},
   "source": [
    "## AMAZION Web scraping an notifier project"
   ]
  },
  {
   "cell_type": "code",
   "execution_count": 10,
   "id": "884c7de5-78e1-48c5-bbcb-e25266ab1ec1",
   "metadata": {},
   "outputs": [],
   "source": [
    "#importing the libraries\n",
    "from bs4 import BeautifulSoup\n",
    "import requests\n",
    "import time\n",
    "import datetime\n"
   ]
  },
  {
   "cell_type": "markdown",
   "id": "671899c8-20ab-41e9-95b3-b25af32b9bb9",
   "metadata": {},
   "source": [
    "### Step 1: connecting to the web URL and retrieving the HTML data"
   ]
  },
  {
   "cell_type": "code",
   "execution_count": 12,
   "id": "6df984a6-286c-4dc6-90b6-aba285cdd12b",
   "metadata": {},
   "outputs": [],
   "source": [
    "#Connecting to the website\n",
    "URL='https://www.amazon.nl/Koffiepadapparaat-Koffievariaties-Waterreservoir-Intensiteit-90/dp/B08Z4B4LKF/ref=sr_1_1'\n",
    "\n",
    "headers = {\"User-Agent\": \"Mozilla/5.0 (Windows NT 10.0; Win64; x64) AppleWebKit/537.36 (KHTML, like Gecko) Chrome/126.0.0.0 Safari/537.36 Edg/126.0.0.0\", \"Accept-Encoding\":\"gzip, deflate\", \"Accept\":\"text/html,application/xhtml+xml,application/xml;q=0.9,*/*;q=0.8\", \"DNT\":\"1\",\"Connection\":\"close\", \"Upgrade-Insecure-Requests\":\"1\"}\n",
    "\n",
    "page= requests.get(URL, headers=headers)\n",
    "\n",
    "soup1=BeautifulSoup(page.content,\"html.parser\")\n",
    "soup2=BeautifulSoup(soup1.prettify(),\"html.parser\")\n",
    "\n"
   ]
  },
  {
   "cell_type": "markdown",
   "id": "1098a1ff-ce1f-493d-b913-9f905e28e087",
   "metadata": {},
   "source": [
    "### Step 2: Finding the product title, price and current date "
   ]
  },
  {
   "cell_type": "code",
   "execution_count": 14,
   "id": "af463fb8-c76a-4c3a-9701-dd21bced0c2e",
   "metadata": {},
   "outputs": [
    {
     "name": "stdout",
     "output_type": "stream",
     "text": [
      "Philips Senseo Original Plus Koffiepadapparaat -2 Koffievariaties (Mild en Intens) -Zet 1 of 2 Kopjes Tegelijk -0.7 Liter Waterreservoir -Matte afwerking -Intensiteit selectie -Rood -CSA210/90\n"
     ]
    }
   ],
   "source": [
    "#getting the title from the retrieved html data\n",
    "title= soup2.find(id='productTitle').get_text()\n",
    "title=title.strip()\n",
    "print(title)"
   ]
  },
  {
   "cell_type": "code",
   "execution_count": 16,
   "id": "50460c4d-eaa8-4bb4-b68f-f5d53d5b6dc3",
   "metadata": {},
   "outputs": [
    {
     "name": "stdout",
     "output_type": "stream",
     "text": [
      "€57\n",
      "                              \n",
      "                               ,.09\n"
     ]
    }
   ],
   "source": [
    "#getting the price from the retrieved html data\n",
    "price_whole = soup2.find('span', class_='a-price-whole')\n",
    "price_fraction = soup2.find('span', class_='a-price-fraction')\n",
    "price_symbol = soup2.find('span', class_='a-price-symbol')\n",
    "\n",
    "if price_whole and price_fraction and price_symbol:\n",
    "    price = f\"{price_symbol.get_text().strip()}{price_whole.get_text().strip()}.{price_fraction.get_text().strip()}\"\n",
    "else:\n",
    "    print(\"Price element not found\")\n",
    "\n",
    "print(price)\n",
    "\n"
   ]
  },
  {
   "cell_type": "code",
   "execution_count": 18,
   "id": "0ac5d8cc-f5fa-4bee-933c-4a214a6939e5",
   "metadata": {},
   "outputs": [
    {
     "name": "stdout",
     "output_type": "stream",
     "text": [
      "57.09\n"
     ]
    }
   ],
   "source": [
    "#formatting the price\n",
    "price = price.replace('\\n', '').replace(' ', '').replace(',', '').strip()[1:]\n",
    "print(price)"
   ]
  },
  {
   "cell_type": "code",
   "execution_count": 20,
   "id": "52447120-9986-46b0-a398-9d58c652d8b1",
   "metadata": {},
   "outputs": [
    {
     "name": "stdout",
     "output_type": "stream",
     "text": [
      "2024-07-01\n"
     ]
    }
   ],
   "source": [
    "import datetime\n",
    "today=datetime.date.today()\n",
    "print(today)"
   ]
  },
  {
   "cell_type": "markdown",
   "id": "bb85e877-c749-4bc5-bfaf-6b7fc3c96642",
   "metadata": {},
   "source": [
    "### Step 3: Writing the data into a CSV file"
   ]
  },
  {
   "cell_type": "code",
   "execution_count": 22,
   "id": "18aba5e7-be9c-4b15-b471-998ba56e8866",
   "metadata": {},
   "outputs": [],
   "source": [
    "#writing the data into a csv\n",
    "import csv\n",
    "header =['Title','Price','Date']\n",
    "data=[title,price,today]\n",
    "with open('AmazonScraper.csv','w', newline='',encoding='UTF8') as f:\n",
    "    writer=csv.writer(f)\n",
    "    writer.writerow(header)\n",
    "    writer.writerow(data)\n",
    "    "
   ]
  },
  {
   "cell_type": "code",
   "execution_count": 24,
   "id": "f3c6aa60-9a66-4dcd-83f6-340e36175951",
   "metadata": {},
   "outputs": [
    {
     "name": "stdout",
     "output_type": "stream",
     "text": [
      "                                               Title  Price        Date\n",
      "0  Philips Senseo Original Plus Koffiepadapparaat...  57.09  2024-07-01\n"
     ]
    }
   ],
   "source": [
    "#reading the data from a csv \n",
    "import pandas as pd \n",
    "df=pd.read_csv(r'C:\\Users\\User\\Data_python\\AmazonScraper.csv')\n",
    "print(df)"
   ]
  },
  {
   "cell_type": "markdown",
   "id": "3b75265e-5442-4ac1-9f3f-fd04b68d5c2f",
   "metadata": {},
   "source": [
    "### Step 4: Writing a fuction for email notification"
   ]
  },
  {
   "cell_type": "code",
   "execution_count": 26,
   "id": "9e8c8125-1900-4662-9106-4a36d2511b37",
   "metadata": {},
   "outputs": [],
   "source": [
    "import os\n",
    "import smtplib\n",
    "from dotenv import load_dotenv\n",
    "\n",
    "\n",
    "\n",
    "def send_mail():\n",
    "    # Get the email and password from environment variables\n",
    "    # Load variables from .env file\n",
    "    load_dotenv()\n",
    "\n",
    "    # Retrieve environment variables\n",
    "    email_user = os.getenv('EMAIL_USER')\n",
    "    email_pass = os.getenv('EMAIL_PASS')\n",
    "\n",
    "\n",
    "    if not email_user or not email_pass:\n",
    "        raise ValueError(\"Email user or password not set in environment variables\")\n",
    "\n",
    "    server = smtplib.SMTP_SSL('smtp.gmail.com', 465)\n",
    "    server.ehlo()\n",
    "    server.login(email_user, email_pass)\n",
    "    \n",
    "    subject = \"The coffee machine you want is below $50! Now is your chance to buy!\"\n",
    "    body = \"Tanvir, This is the moment we have been waiting for. Now is your chance to pick up the coffee machine of your dreams. Don't mess it up! Link here: https://www.amazon.nl/Koffiepadapparaat-Koffievariaties-Waterreservoir-Intensiteit-90/dp/B08Z4B4LKF/ref=sr_1_1\"\n",
    "   \n",
    "    msg = f\"Subject: {subject}\\n\\n{body}\"\n",
    "    recipient_email = 'raining.smtt@gmail.com'  # Replace with the actual recipient email address\n",
    "\n",
    "    server.sendmail(\n",
    "        email_user,\n",
    "        recipient_email,\n",
    "        msg\n",
    "    )\n"
   ]
  },
  {
   "cell_type": "markdown",
   "id": "7b896643-c001-45a2-9af6-b8105237b3a5",
   "metadata": {},
   "source": [
    "### Step 5: Putting the Step 1-3 in a single function (price_check) and invoking step 4 (send_email) if price drops below a certain point"
   ]
  },
  {
   "cell_type": "code",
   "execution_count": 29,
   "id": "c92797cc-748f-46e7-9fea-ae6da919328e",
   "metadata": {},
   "outputs": [],
   "source": [
    "\n",
    "def price_check():\n",
    "    URL='https://www.amazon.nl/Koffiepadapparaat-Koffievariaties-Waterreservoir-Intensiteit-90/dp/B08Z4B4LKF/ref=sr_1_1'\n",
    "\n",
    "    headers = {\"User-Agent\": \"Mozilla/5.0 (Windows NT 10.0; Win64; x64) AppleWebKit/537.36 (KHTML, like Gecko) Chrome/126.0.0.0 Safari/537.36 Edg/126.0.0.0\", \"Accept-Encoding\":\"gzip, deflate\", \"Accept\":\"text/html,application/xhtml+xml,application/xml;q=0.9,*/*;q=0.8\", \"DNT\":\"1\",\"Connection\":\"close\", \"Upgrade-Insecure-Requests\":\"1\"}\n",
    "\n",
    "    page= requests.get(URL, headers=headers)\n",
    "\n",
    "    soup1=BeautifulSoup(page.content,\"html.parser\")\n",
    "    soup2=BeautifulSoup(soup1.prettify(),\"html.parser\")\n",
    "\n",
    "    #getting the title\n",
    "    title= soup2.find(id='productTitle').get_text()\n",
    "    title=title.strip()\n",
    "    #getting the price\n",
    "    price_whole = soup2.find('span', class_='a-price-whole')\n",
    "    price_fraction = soup2.find('span', class_='a-price-fraction')\n",
    "    price_symbol = soup2.find('span', class_='a-price-symbol')\n",
    "\n",
    "    if price_whole and price_fraction and price_symbol:\n",
    "        price = f\"{price_symbol.get_text().strip()}{price_whole.get_text().strip()}.{price_fraction.get_text().strip()}\"\n",
    "    else:\n",
    "        price='N/A'\n",
    "\n",
    "    #formatting the price\n",
    "    price = price.replace('\\n', '').replace(' ', '').replace(',', '').strip()[1:]\n",
    "\n",
    "    import datetime\n",
    "    today=datetime.date.today()\n",
    "    print(today)\n",
    "\n",
    "    import csv\n",
    "    header =['Title','Price','Date']\n",
    "    data=[title,price,today]\n",
    "    with open('AmazonScraper.csv','a+', newline='',encoding='UTF8') as f:\n",
    "        writer=csv.writer(f)\n",
    "        writer.writerow(data)\n",
    "    price= float(price)\n",
    "    if(price<50.00):\n",
    "        send_mail()"
   ]
  },
  {
   "cell_type": "markdown",
   "id": "a548e700-a094-4ae2-9000-bf90522d07e0",
   "metadata": {},
   "source": [
    "### Step 6: Running step 5 once every day automatically"
   ]
  },
  {
   "cell_type": "code",
   "execution_count": null,
   "id": "2c491fd8-f951-4d85-bf58-e300802065a6",
   "metadata": {},
   "outputs": [
    {
     "name": "stdout",
     "output_type": "stream",
     "text": [
      "2024-07-01\n"
     ]
    }
   ],
   "source": [
    "while(True):\n",
    "    price_check()\n",
    "    time.sleep(86400)"
   ]
  },
  {
   "cell_type": "code",
   "execution_count": null,
   "id": "c71ca565-18c0-4a5b-906d-dd68f71bbc2f",
   "metadata": {},
   "outputs": [],
   "source": []
  }
 ],
 "metadata": {
  "kernelspec": {
   "display_name": "Python 3 (ipykernel)",
   "language": "python",
   "name": "python3"
  },
  "language_info": {
   "codemirror_mode": {
    "name": "ipython",
    "version": 3
   },
   "file_extension": ".py",
   "mimetype": "text/x-python",
   "name": "python",
   "nbconvert_exporter": "python",
   "pygments_lexer": "ipython3",
   "version": "3.11.7"
  }
 },
 "nbformat": 4,
 "nbformat_minor": 5
}
